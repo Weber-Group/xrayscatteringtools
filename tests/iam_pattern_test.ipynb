{
 "cells": [
  {
   "cell_type": "code",
   "execution_count": null,
   "id": "c8f003c7",
   "metadata": {},
   "outputs": [],
   "source": [
    "import sys\n",
    "sys.path.append('../src') # If the module is not installed.\n",
    "from xrayscatteringtools.theory.iam import iam_total_pattern, iam_inelastic_pattern, iam_elastic_pattern\n",
    "import matplotlib.pyplot as plt\n",
    "import numpy as np\n",
    "\n",
    "q_arr = np.linspace(0, 10, 1000)  # Example q values\n",
    "total_pattern = iam_total_pattern('sf6_ground.xyz', q_arr)\n",
    "elastic_pattern = iam_elastic_pattern('sf6_ground.xyz', q_arr)\n",
    "inelastic_pattern = iam_inelastic_pattern('sf6_ground.xyz', q_arr)\n",
    "\n",
    "plt.figure(figsize=(10, 6))\n",
    "plt.plot(q_arr, total_pattern, label='Total Pattern')\n",
    "plt.plot(q_arr, inelastic_pattern, label='Inelastic Pattern')\n",
    "plt.plot(q_arr, elastic_pattern, label='Elastic Pattern')\n",
    "plt.xlabel('Q (1/Å)')\n",
    "plt.ylabel('Intensity (a.u.)')\n",
    "plt.title('X-ray Scattering Patterns')\n",
    "plt.legend()\n",
    "plt.grid()\n",
    "plt.show()\n"
   ]
  }
 ],
 "metadata": {
  "kernelspec": {
   "display_name": "Python 3 (ipykernel)",
   "language": "python",
   "name": "python3"
  },
  "language_info": {
   "codemirror_mode": {
    "name": "ipython",
    "version": 3
   },
   "file_extension": ".py",
   "mimetype": "text/x-python",
   "name": "python",
   "nbconvert_exporter": "python",
   "pygments_lexer": "ipython3",
   "version": "3.9.20"
  }
 },
 "nbformat": 4,
 "nbformat_minor": 5
}
