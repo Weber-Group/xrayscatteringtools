{
 "cells": [
  {
   "cell_type": "code",
   "execution_count": null,
   "id": "673b4fff",
   "metadata": {},
   "outputs": [],
   "source": [
    "import matplotlib.pyplot as plt\n",
    "from xrayscatteringtools.theory.patterns import sf6\n",
    "plt.plot(sf6.q,sf6.I_q,label='SF6 Total')\n",
    "plt.plot(sf6.q,sf6.I_q_elastic,label='SF6 Elastic')\n",
    "plt.plot(sf6.q,sf6.I_q_inelastic,label='SF6 Inelastic')\n",
    "plt.legend()"
   ]
  }
 ],
 "metadata": {
  "kernelspec": {
   "display_name": "Python 3",
   "language": "python",
   "name": "python3"
  },
  "language_info": {
   "codemirror_mode": {
    "name": "ipython",
    "version": 3
   },
   "file_extension": ".py",
   "mimetype": "text/x-python",
   "name": "python",
   "nbconvert_exporter": "python",
   "pygments_lexer": "ipython3",
   "version": "3.12.3"
  }
 },
 "nbformat": 4,
 "nbformat_minor": 5
}
